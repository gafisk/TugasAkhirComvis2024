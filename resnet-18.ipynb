{
 "cells": [
  {
   "cell_type": "code",
   "execution_count": 1,
   "metadata": {},
   "outputs": [
    {
     "name": "stderr",
     "output_type": "stream",
     "text": [
      "2024-05-27 00:01:37.053366: I tensorflow/core/platform/cpu_feature_guard.cc:210] This TensorFlow binary is optimized to use available CPU instructions in performance-critical operations.\n",
      "To enable the following instructions: AVX2 FMA, in other operations, rebuild TensorFlow with the appropriate compiler flags.\n",
      "2024-05-27 00:01:37.841262: W tensorflow/compiler/tf2tensorrt/utils/py_utils.cc:38] TF-TRT Warning: Could not find TensorRT\n"
     ]
    }
   ],
   "source": [
    "import pandas as pd\n",
    "import os\n",
    "import numpy as np\n",
    "from sklearn.model_selection import train_test_split\n",
    "from sklearn.metrics import confusion_matrix, classification_report\n",
    "import matplotlib.pyplot as plt\n",
    "from PIL import Image\n",
    "import tensorflow as tf\n",
    "from tensorflow.keras.applications import ResNet50\n",
    "from tensorflow.keras import layers, models\n",
    "from tensorflow.keras.optimizers import Adam\n",
    "import re"
   ]
  },
  {
   "cell_type": "code",
   "execution_count": 2,
   "metadata": {
    "id": "LO0LbHfQRAQi"
   },
   "outputs": [],
   "source": [
    "link_csv = 'HAM10000_metadata.csv'\n",
    "generated_folder = 'generated'\n",
    "skin_folder = 'Skin Cancer'"
   ]
  },
  {
   "cell_type": "code",
   "execution_count": 3,
   "metadata": {
    "colab": {
     "base_uri": "https://localhost:8080/"
    },
    "id": "tJ7MeCKRRrA_",
    "outputId": "04912c28-0872-4630-c35f-7317eee163f4"
   },
   "outputs": [
    {
     "name": "stdout",
     "output_type": "stream",
     "text": [
      "Sukses Generated\n"
     ]
    }
   ],
   "source": [
    "file_names = os.listdir(generated_folder)\n",
    "\n",
    "nama_generated = []\n",
    "for file_name in file_names:\n",
    "    nama_generated.append(file_name)\n",
    "print(\"Sukses Generated\")"
   ]
  },
  {
   "cell_type": "code",
   "execution_count": 4,
   "metadata": {
    "colab": {
     "base_uri": "https://localhost:8080/",
     "height": 423
    },
    "id": "1AXvW7pXWxOb",
    "outputId": "88eb1692-9919-418b-98d0-3e2805702c57"
   },
   "outputs": [
    {
     "data": {
      "text/html": [
       "<div>\n",
       "<style scoped>\n",
       "    .dataframe tbody tr th:only-of-type {\n",
       "        vertical-align: middle;\n",
       "    }\n",
       "\n",
       "    .dataframe tbody tr th {\n",
       "        vertical-align: top;\n",
       "    }\n",
       "\n",
       "    .dataframe thead th {\n",
       "        text-align: right;\n",
       "    }\n",
       "</style>\n",
       "<table border=\"1\" class=\"dataframe\">\n",
       "  <thead>\n",
       "    <tr style=\"text-align: right;\">\n",
       "      <th></th>\n",
       "      <th>image_id</th>\n",
       "      <th>dx</th>\n",
       "    </tr>\n",
       "  </thead>\n",
       "  <tbody>\n",
       "    <tr>\n",
       "      <th>0</th>\n",
       "      <td>ISIC_0027419</td>\n",
       "      <td>bkl</td>\n",
       "    </tr>\n",
       "    <tr>\n",
       "      <th>1</th>\n",
       "      <td>ISIC_0025030</td>\n",
       "      <td>bkl</td>\n",
       "    </tr>\n",
       "    <tr>\n",
       "      <th>2</th>\n",
       "      <td>ISIC_0026769</td>\n",
       "      <td>bkl</td>\n",
       "    </tr>\n",
       "    <tr>\n",
       "      <th>3</th>\n",
       "      <td>ISIC_0025661</td>\n",
       "      <td>bkl</td>\n",
       "    </tr>\n",
       "    <tr>\n",
       "      <th>4</th>\n",
       "      <td>ISIC_0031633</td>\n",
       "      <td>bkl</td>\n",
       "    </tr>\n",
       "    <tr>\n",
       "      <th>...</th>\n",
       "      <td>...</td>\n",
       "      <td>...</td>\n",
       "    </tr>\n",
       "    <tr>\n",
       "      <th>10010</th>\n",
       "      <td>ISIC_0033084</td>\n",
       "      <td>akiec</td>\n",
       "    </tr>\n",
       "    <tr>\n",
       "      <th>10011</th>\n",
       "      <td>ISIC_0033550</td>\n",
       "      <td>akiec</td>\n",
       "    </tr>\n",
       "    <tr>\n",
       "      <th>10012</th>\n",
       "      <td>ISIC_0033536</td>\n",
       "      <td>akiec</td>\n",
       "    </tr>\n",
       "    <tr>\n",
       "      <th>10013</th>\n",
       "      <td>ISIC_0032854</td>\n",
       "      <td>akiec</td>\n",
       "    </tr>\n",
       "    <tr>\n",
       "      <th>10014</th>\n",
       "      <td>ISIC_0032258</td>\n",
       "      <td>mel</td>\n",
       "    </tr>\n",
       "  </tbody>\n",
       "</table>\n",
       "<p>10015 rows × 2 columns</p>\n",
       "</div>"
      ],
      "text/plain": [
       "           image_id     dx\n",
       "0      ISIC_0027419    bkl\n",
       "1      ISIC_0025030    bkl\n",
       "2      ISIC_0026769    bkl\n",
       "3      ISIC_0025661    bkl\n",
       "4      ISIC_0031633    bkl\n",
       "...             ...    ...\n",
       "10010  ISIC_0033084  akiec\n",
       "10011  ISIC_0033550  akiec\n",
       "10012  ISIC_0033536  akiec\n",
       "10013  ISIC_0032854  akiec\n",
       "10014  ISIC_0032258    mel\n",
       "\n",
       "[10015 rows x 2 columns]"
      ]
     },
     "execution_count": 4,
     "metadata": {},
     "output_type": "execute_result"
    }
   ],
   "source": [
    "data_csv = pd.read_csv(link_csv)\n",
    "data_csv = data_csv[['image_id', 'dx']]\n",
    "data_csv"
   ]
  },
  {
   "cell_type": "code",
   "execution_count": 5,
   "metadata": {
    "colab": {
     "base_uri": "https://localhost:8080/"
    },
    "id": "PzUTFNmfoMSb",
    "outputId": "bb754635-d446-4d0f-9060-09cc27b201e5"
   },
   "outputs": [
    {
     "data": {
      "text/plain": [
       "[('generated_ISIC_0028325.jpg', 'mel'),\n",
       " ('generated_ISIC_0030727.jpg', 'nv'),\n",
       " ('generated_ISIC_0031209.jpg', 'nv'),\n",
       " ('generated_ISIC_0024479.jpg', 'nv'),\n",
       " ('generated_ISIC_0027738.jpg', 'nv'),\n",
       " ('generated_ISIC_0027934.jpg', 'nv'),\n",
       " ('generated_ISIC_0032443.jpg', 'nv'),\n",
       " ('generated_ISIC_0025972.jpg', 'nv'),\n",
       " ('generated_ISIC_0026022.jpg', 'nv'),\n",
       " ('generated_ISIC_0031414.jpg', 'nv'),\n",
       " ('generated_ISIC_0031637.jpg', 'nv'),\n",
       " ('generated_ISIC_0027946.jpg', 'nv'),\n",
       " ('generated_ISIC_0034050.jpg', 'mel'),\n",
       " ('generated_ISIC_0027319.jpg', 'nv'),\n",
       " ('generated_ISIC_0033530.jpg', 'nv'),\n",
       " ('generated_ISIC_0025042.jpg', 'nv'),\n",
       " ('generated_ISIC_0029552.jpg', 'nv'),\n",
       " ('generated_ISIC_0025050.jpg', 'nv'),\n",
       " ('generated_ISIC_0024403.jpg', 'bcc'),\n",
       " ('generated_ISIC_0028576.jpg', 'nv'),\n",
       " ('generated_ISIC_0030952.jpg', 'nv'),\n",
       " ('generated_ISIC_0027574.jpg', 'nv'),\n",
       " ('generated_ISIC_0033169.jpg', 'bkl'),\n",
       " ('generated_ISIC_0034260.jpg', 'nv'),\n",
       " ('generated_ISIC_0032014.jpg', 'akiec'),\n",
       " ('generated_ISIC_0028164.jpg', 'nv'),\n",
       " ('generated_ISIC_0027139.jpg', 'bkl'),\n",
       " ('generated_ISIC_0029015.jpg', 'nv'),\n",
       " ('generated_ISIC_0028888.jpg', 'nv'),\n",
       " ('generated_ISIC_0030666.jpg', 'nv'),\n",
       " ('generated_ISIC_0033492.jpg', 'nv'),\n",
       " ('generated_ISIC_0026608.jpg', 'nv'),\n",
       " ('generated_ISIC_0030538.jpg', 'nv'),\n",
       " ('generated_ISIC_0028972.jpg', 'bkl'),\n",
       " ('generated_ISIC_0029201.jpg', 'bcc'),\n",
       " ('generated_ISIC_0029506.jpg', 'nv'),\n",
       " ('generated_ISIC_0024734.jpg', 'nv'),\n",
       " ('generated_ISIC_0032312.jpg', 'nv'),\n",
       " ('generated_ISIC_0029529.jpg', 'nv'),\n",
       " ('generated_ISIC_0032112.jpg', 'nv'),\n",
       " ('generated_ISIC_0030428.jpg', 'nv'),\n",
       " ('generated_ISIC_0025956.jpg', 'nv'),\n",
       " ('generated_ISIC_0027909.jpg', 'nv'),\n",
       " ('generated_ISIC_0031485.jpg', 'bkl'),\n",
       " ('generated_ISIC_0029289.jpg', 'bkl'),\n",
       " ('generated_ISIC_0025380.jpg', 'nv'),\n",
       " ('generated_ISIC_0025096.jpg', 'nv'),\n",
       " ('generated_ISIC_0030381.jpg', 'nv'),\n",
       " ('generated_ISIC_0032466.jpg', 'mel'),\n",
       " ('generated_ISIC_0029534.jpg', 'nv'),\n",
       " ('generated_ISIC_0033711.jpg', 'nv'),\n",
       " ('generated_ISIC_0029035.jpg', 'bcc'),\n",
       " ('generated_ISIC_0031221.jpg', 'nv'),\n",
       " ('generated_ISIC_0028055.jpg', 'nv'),\n",
       " ('generated_ISIC_0033232.jpg', 'mel'),\n",
       " ('generated_ISIC_0026795.jpg', 'nv'),\n",
       " ('generated_ISIC_0026032.jpg', 'nv'),\n",
       " ('generated_ISIC_0025143.jpg', 'nv'),\n",
       " ('generated_ISIC_0024354.jpg', 'nv'),\n",
       " ('generated_ISIC_0027317.jpg', 'nv'),\n",
       " ('generated_ISIC_0025140.jpg', 'bkl'),\n",
       " ('generated_ISIC_0027507.jpg', 'mel'),\n",
       " ('generated_ISIC_0027887.jpg', 'nv'),\n",
       " ('generated_ISIC_0027802.jpg', 'akiec'),\n",
       " ('generated_ISIC_0033657.jpg', 'nv'),\n",
       " ('generated_ISIC_0033422.jpg', 'df'),\n",
       " ('generated_ISIC_0028058.jpg', 'nv'),\n",
       " ('generated_ISIC_0025280.jpg', 'nv'),\n",
       " ('generated_ISIC_0030822.jpg', 'bkl'),\n",
       " ('generated_ISIC_0029973.jpg', 'df'),\n",
       " ('generated_ISIC_0026015.jpg', 'bkl'),\n",
       " ('generated_ISIC_0031119.jpg', 'akiec'),\n",
       " ('generated_ISIC_0032299.jpg', 'nv'),\n",
       " ('generated_ISIC_0025532.jpg', 'nv'),\n",
       " ('generated_ISIC_0027542.jpg', 'nv'),\n",
       " ('generated_ISIC_0025747.jpg', 'nv'),\n",
       " ('generated_ISIC_0031199.jpg', 'nv'),\n",
       " ('generated_ISIC_0029550.jpg', 'nv'),\n",
       " ('generated_ISIC_0025770.jpg', 'nv'),\n",
       " ('generated_ISIC_0024986.jpg', 'nv'),\n",
       " ('generated_ISIC_0025152.jpg', 'nv'),\n",
       " ('generated_ISIC_0024728.jpg', 'nv'),\n",
       " ('generated_ISIC_0029248.jpg', 'df'),\n",
       " ('generated_ISIC_0024617.jpg', 'nv'),\n",
       " ('generated_ISIC_0027622.jpg', 'mel'),\n",
       " ('generated_ISIC_0031089.jpg', 'nv'),\n",
       " ('generated_ISIC_0029679.jpg', 'nv'),\n",
       " ('generated_ISIC_0030315.jpg', 'nv'),\n",
       " ('generated_ISIC_0028815.jpg', 'bcc'),\n",
       " ('generated_ISIC_0025818.jpg', 'bcc'),\n",
       " ('generated_ISIC_0025721.jpg', 'nv'),\n",
       " ('generated_ISIC_0032315.jpg', 'bkl'),\n",
       " ('generated_ISIC_0032471.jpg', 'nv'),\n",
       " ('generated_ISIC_0024741.jpg', 'bkl'),\n",
       " ('generated_ISIC_0028975.jpg', 'nv'),\n",
       " ('generated_ISIC_0025737.jpg', 'nv'),\n",
       " ('generated_ISIC_0028062.jpg', 'nv'),\n",
       " ('generated_ISIC_0029952.jpg', 'nv'),\n",
       " ('generated_ISIC_0024573.jpg', 'bcc'),\n",
       " ('generated_ISIC_0032465.jpg', 'nv'),\n",
       " ('generated_ISIC_0026076.jpg', 'nv'),\n",
       " ('generated_ISIC_0031479.jpg', 'mel'),\n",
       " ('generated_ISIC_0029234.jpg', 'nv'),\n",
       " ('generated_ISIC_0033708.jpg', 'mel'),\n",
       " ('generated_ISIC_0026465.jpg', 'nv'),\n",
       " ('generated_ISIC_0024863.jpg', 'nv'),\n",
       " ('generated_ISIC_0032161.jpg', 'nv'),\n",
       " ('generated_ISIC_0031067.jpg', 'nv'),\n",
       " ('generated_ISIC_0027314.jpg', 'nv'),\n",
       " ('generated_ISIC_0025018.jpg', 'mel'),\n",
       " ('generated_ISIC_0031340.jpg', 'nv'),\n",
       " ('generated_ISIC_0029269.jpg', 'nv'),\n",
       " ('generated_ISIC_0032210.jpg', 'nv'),\n",
       " ('generated_ISIC_0028877.jpg', 'bcc'),\n",
       " ('generated_ISIC_0030162.jpg', 'nv'),\n",
       " ('generated_ISIC_0034075.jpg', 'nv'),\n",
       " ('generated_ISIC_0029361.jpg', 'nv'),\n",
       " ('generated_ISIC_0028794.jpg', 'nv'),\n",
       " ('generated_ISIC_0034305.jpg', 'nv'),\n",
       " ('generated_ISIC_0025958.jpg', 'nv'),\n",
       " ('generated_ISIC_0032244.jpg', 'mel'),\n",
       " ('generated_ISIC_0032502.jpg', 'nv'),\n",
       " ('generated_ISIC_0029764.jpg', 'bkl'),\n",
       " ('generated_ISIC_0028802.jpg', 'nv'),\n",
       " ('generated_ISIC_0032762.jpg', 'nv'),\n",
       " ('generated_ISIC_0029287.jpg', 'nv'),\n",
       " ('generated_ISIC_0033958.jpg', 'nv'),\n",
       " ('generated_ISIC_0030923.jpg', 'nv')]"
      ]
     },
     "execution_count": 5,
     "metadata": {},
     "output_type": "execute_result"
    }
   ],
   "source": [
    "datas_generated = []\n",
    "\n",
    "for generated_name in nama_generated:\n",
    "    temp = re.search(r'ISIC_\\d+', generated_name)\n",
    "    if temp:\n",
    "        result = temp.group(0)\n",
    "        matching_row = data_csv[data_csv['image_id'] == result]\n",
    "        if not matching_row.empty:\n",
    "            dx_value = matching_row.iloc[0]['dx']\n",
    "            datas_generated.append((generated_name, dx_value))\n",
    "datas_generated"
   ]
  },
  {
   "cell_type": "code",
   "execution_count": 6,
   "metadata": {},
   "outputs": [
    {
     "data": {
      "text/html": [
       "<div>\n",
       "<style scoped>\n",
       "    .dataframe tbody tr th:only-of-type {\n",
       "        vertical-align: middle;\n",
       "    }\n",
       "\n",
       "    .dataframe tbody tr th {\n",
       "        vertical-align: top;\n",
       "    }\n",
       "\n",
       "    .dataframe thead th {\n",
       "        text-align: right;\n",
       "    }\n",
       "</style>\n",
       "<table border=\"1\" class=\"dataframe\">\n",
       "  <thead>\n",
       "    <tr style=\"text-align: right;\">\n",
       "      <th></th>\n",
       "      <th>image_id</th>\n",
       "      <th>dx</th>\n",
       "    </tr>\n",
       "  </thead>\n",
       "  <tbody>\n",
       "    <tr>\n",
       "      <th>0</th>\n",
       "      <td>ISIC_0027419.jpg</td>\n",
       "      <td>bkl</td>\n",
       "    </tr>\n",
       "    <tr>\n",
       "      <th>1</th>\n",
       "      <td>ISIC_0025030.jpg</td>\n",
       "      <td>bkl</td>\n",
       "    </tr>\n",
       "    <tr>\n",
       "      <th>2</th>\n",
       "      <td>ISIC_0026769.jpg</td>\n",
       "      <td>bkl</td>\n",
       "    </tr>\n",
       "    <tr>\n",
       "      <th>3</th>\n",
       "      <td>ISIC_0025661.jpg</td>\n",
       "      <td>bkl</td>\n",
       "    </tr>\n",
       "    <tr>\n",
       "      <th>4</th>\n",
       "      <td>ISIC_0031633.jpg</td>\n",
       "      <td>bkl</td>\n",
       "    </tr>\n",
       "    <tr>\n",
       "      <th>...</th>\n",
       "      <td>...</td>\n",
       "      <td>...</td>\n",
       "    </tr>\n",
       "    <tr>\n",
       "      <th>10010</th>\n",
       "      <td>ISIC_0033084.jpg</td>\n",
       "      <td>akiec</td>\n",
       "    </tr>\n",
       "    <tr>\n",
       "      <th>10011</th>\n",
       "      <td>ISIC_0033550.jpg</td>\n",
       "      <td>akiec</td>\n",
       "    </tr>\n",
       "    <tr>\n",
       "      <th>10012</th>\n",
       "      <td>ISIC_0033536.jpg</td>\n",
       "      <td>akiec</td>\n",
       "    </tr>\n",
       "    <tr>\n",
       "      <th>10013</th>\n",
       "      <td>ISIC_0032854.jpg</td>\n",
       "      <td>akiec</td>\n",
       "    </tr>\n",
       "    <tr>\n",
       "      <th>10014</th>\n",
       "      <td>ISIC_0032258.jpg</td>\n",
       "      <td>mel</td>\n",
       "    </tr>\n",
       "  </tbody>\n",
       "</table>\n",
       "<p>10015 rows × 2 columns</p>\n",
       "</div>"
      ],
      "text/plain": [
       "               image_id     dx\n",
       "0      ISIC_0027419.jpg    bkl\n",
       "1      ISIC_0025030.jpg    bkl\n",
       "2      ISIC_0026769.jpg    bkl\n",
       "3      ISIC_0025661.jpg    bkl\n",
       "4      ISIC_0031633.jpg    bkl\n",
       "...                 ...    ...\n",
       "10010  ISIC_0033084.jpg  akiec\n",
       "10011  ISIC_0033550.jpg  akiec\n",
       "10012  ISIC_0033536.jpg  akiec\n",
       "10013  ISIC_0032854.jpg  akiec\n",
       "10014  ISIC_0032258.jpg    mel\n",
       "\n",
       "[10015 rows x 2 columns]"
      ]
     },
     "execution_count": 6,
     "metadata": {},
     "output_type": "execute_result"
    }
   ],
   "source": [
    "data_csv['image_id'] = data_csv['image_id'] + '.jpg'\n",
    "data_csv"
   ]
  },
  {
   "cell_type": "code",
   "execution_count": 7,
   "metadata": {
    "colab": {
     "base_uri": "https://localhost:8080/"
    },
    "id": "YNRxcyIErqCN",
    "outputId": "cfa3abef-0d99-4f53-de17-62ca38ec4e3a"
   },
   "outputs": [
    {
     "data": {
      "text/plain": [
       "128"
      ]
     },
     "execution_count": 7,
     "metadata": {},
     "output_type": "execute_result"
    }
   ],
   "source": [
    "len(datas_generated)"
   ]
  },
  {
   "cell_type": "code",
   "execution_count": 8,
   "metadata": {
    "colab": {
     "base_uri": "https://localhost:8080/",
     "height": 53
    },
    "id": "cXzZBc8hp8yM",
    "outputId": "0b9e7aae-4f61-46fa-ffac-137dc7dbb6c1"
   },
   "outputs": [
    {
     "data": {
      "text/html": [
       "<div>\n",
       "<style scoped>\n",
       "    .dataframe tbody tr th:only-of-type {\n",
       "        vertical-align: middle;\n",
       "    }\n",
       "\n",
       "    .dataframe tbody tr th {\n",
       "        vertical-align: top;\n",
       "    }\n",
       "\n",
       "    .dataframe thead th {\n",
       "        text-align: right;\n",
       "    }\n",
       "</style>\n",
       "<table border=\"1\" class=\"dataframe\">\n",
       "  <thead>\n",
       "    <tr style=\"text-align: right;\">\n",
       "      <th></th>\n",
       "      <th>image_id</th>\n",
       "      <th>dx</th>\n",
       "    </tr>\n",
       "  </thead>\n",
       "  <tbody>\n",
       "    <tr>\n",
       "      <th>0</th>\n",
       "      <td>generated_ISIC_0028325.jpg</td>\n",
       "      <td>mel</td>\n",
       "    </tr>\n",
       "    <tr>\n",
       "      <th>1</th>\n",
       "      <td>generated_ISIC_0030727.jpg</td>\n",
       "      <td>nv</td>\n",
       "    </tr>\n",
       "    <tr>\n",
       "      <th>2</th>\n",
       "      <td>generated_ISIC_0031209.jpg</td>\n",
       "      <td>nv</td>\n",
       "    </tr>\n",
       "    <tr>\n",
       "      <th>3</th>\n",
       "      <td>generated_ISIC_0024479.jpg</td>\n",
       "      <td>nv</td>\n",
       "    </tr>\n",
       "    <tr>\n",
       "      <th>4</th>\n",
       "      <td>generated_ISIC_0027738.jpg</td>\n",
       "      <td>nv</td>\n",
       "    </tr>\n",
       "    <tr>\n",
       "      <th>...</th>\n",
       "      <td>...</td>\n",
       "      <td>...</td>\n",
       "    </tr>\n",
       "    <tr>\n",
       "      <th>123</th>\n",
       "      <td>generated_ISIC_0028802.jpg</td>\n",
       "      <td>nv</td>\n",
       "    </tr>\n",
       "    <tr>\n",
       "      <th>124</th>\n",
       "      <td>generated_ISIC_0032762.jpg</td>\n",
       "      <td>nv</td>\n",
       "    </tr>\n",
       "    <tr>\n",
       "      <th>125</th>\n",
       "      <td>generated_ISIC_0029287.jpg</td>\n",
       "      <td>nv</td>\n",
       "    </tr>\n",
       "    <tr>\n",
       "      <th>126</th>\n",
       "      <td>generated_ISIC_0033958.jpg</td>\n",
       "      <td>nv</td>\n",
       "    </tr>\n",
       "    <tr>\n",
       "      <th>127</th>\n",
       "      <td>generated_ISIC_0030923.jpg</td>\n",
       "      <td>nv</td>\n",
       "    </tr>\n",
       "  </tbody>\n",
       "</table>\n",
       "<p>128 rows × 2 columns</p>\n",
       "</div>"
      ],
      "text/plain": [
       "                       image_id   dx\n",
       "0    generated_ISIC_0028325.jpg  mel\n",
       "1    generated_ISIC_0030727.jpg   nv\n",
       "2    generated_ISIC_0031209.jpg   nv\n",
       "3    generated_ISIC_0024479.jpg   nv\n",
       "4    generated_ISIC_0027738.jpg   nv\n",
       "..                          ...  ...\n",
       "123  generated_ISIC_0028802.jpg   nv\n",
       "124  generated_ISIC_0032762.jpg   nv\n",
       "125  generated_ISIC_0029287.jpg   nv\n",
       "126  generated_ISIC_0033958.jpg   nv\n",
       "127  generated_ISIC_0030923.jpg   nv\n",
       "\n",
       "[128 rows x 2 columns]"
      ]
     },
     "execution_count": 8,
     "metadata": {},
     "output_type": "execute_result"
    }
   ],
   "source": [
    "data_generated = pd.DataFrame(datas_generated, columns=['image_id', 'dx'])\n",
    "data_generated"
   ]
  },
  {
   "cell_type": "code",
   "execution_count": 9,
   "metadata": {
    "colab": {
     "base_uri": "https://localhost:8080/"
    },
    "id": "_nACQ9EIsIlu",
    "outputId": "96b640ab-bd0d-4229-d1e3-d091274f4f12"
   },
   "outputs": [
    {
     "name": "stdout",
     "output_type": "stream",
     "text": [
      "      dx  total\n",
      "0  akiec      3\n",
      "1    bcc      7\n",
      "2    bkl     11\n",
      "3     df      3\n",
      "4    mel     10\n",
      "5     nv     94\n"
     ]
    }
   ],
   "source": [
    "total_kelas_generated = data_generated.groupby('dx').size().reset_index(name='total')\n",
    "print(total_kelas_generated)"
   ]
  },
  {
   "cell_type": "code",
   "execution_count": 10,
   "metadata": {
    "colab": {
     "base_uri": "https://localhost:8080/"
    },
    "id": "qVCUUezzYUdD",
    "outputId": "2ba22398-f0d2-48a8-f247-7765dae3c0e4"
   },
   "outputs": [
    {
     "name": "stdout",
     "output_type": "stream",
     "text": [
      "      dx  total\n",
      "0  akiec    327\n",
      "1    bcc    514\n",
      "2    bkl   1099\n",
      "3     df    115\n",
      "4    mel   1113\n",
      "5     nv   6705\n",
      "6   vasc    142\n"
     ]
    }
   ],
   "source": [
    "total_kelas_csv = data_csv.groupby('dx').size().reset_index(name='total')\n",
    "print(total_kelas_csv)"
   ]
  },
  {
   "cell_type": "code",
   "execution_count": 11,
   "metadata": {
    "id": "bX36U9nkYwot"
   },
   "outputs": [],
   "source": [
    "# Fungsi untuk memeriksa dan membaca gambar\n",
    "def load_image(image_id, folder):\n",
    "    image_path = os.path.join(folder, image_id)\n",
    "    if os.path.exists(image_path):\n",
    "        image = Image.open(image_path)\n",
    "        image = image.resize((224, 224))  # Resize gambar ke ukuran 128x128\n",
    "        return np.array(image)\n",
    "    else:\n",
    "        print(f\"Image {image_id} not found in {folder}\")\n",
    "        return None\n",
    "\n",
    "# Membaca gambar dari skin_folder dan generated_folder\n",
    "images = []\n",
    "labels = []"
   ]
  },
  {
   "cell_type": "code",
   "execution_count": 12,
   "metadata": {
    "id": "i1P2sOzQZt_C"
   },
   "outputs": [
    {
     "name": "stdout",
     "output_type": "stream",
     "text": [
      "foto ke 1000\n",
      "foto ke 2000\n",
      "foto ke 3000\n",
      "foto ke 4000\n",
      "foto ke 5000\n",
      "foto ke 6000\n",
      "foto ke 7000\n",
      "foto ke 8000\n",
      "foto ke 9000\n",
      "foto ke 10000\n"
     ]
    }
   ],
   "source": [
    "no = 0\n",
    "for idx, row in data_csv.iterrows():\n",
    "    image = load_image(row['image_id'], skin_folder)\n",
    "    if image is not None:\n",
    "        images.append(image)\n",
    "        labels.append(row['dx'])\n",
    "        no += 1\n",
    "        if no % 1000 == 0:\n",
    "            print(f'foto ke {no}') "
   ]
  },
  {
   "cell_type": "code",
   "execution_count": 13,
   "metadata": {
    "id": "qLHMqffaZzBa"
   },
   "outputs": [
    {
     "name": "stdout",
     "output_type": "stream",
     "text": [
      "foto ke 1\n",
      "foto ke 2\n",
      "foto ke 3\n",
      "foto ke 4\n",
      "foto ke 5\n",
      "foto ke 6\n",
      "foto ke 7\n",
      "foto ke 8\n",
      "foto ke 9\n",
      "foto ke 10\n",
      "foto ke 11\n",
      "foto ke 12\n",
      "foto ke 13\n",
      "foto ke 14\n",
      "foto ke 15\n",
      "foto ke 16\n",
      "foto ke 17\n",
      "foto ke 18\n",
      "foto ke 19\n",
      "foto ke 20\n",
      "foto ke 21\n",
      "foto ke 22\n",
      "foto ke 23\n",
      "foto ke 24\n",
      "foto ke 25\n",
      "foto ke 26\n",
      "foto ke 27\n",
      "foto ke 28\n",
      "foto ke 29\n",
      "foto ke 30\n",
      "foto ke 31\n",
      "foto ke 32\n",
      "foto ke 33\n",
      "foto ke 34\n",
      "foto ke 35\n",
      "foto ke 36\n",
      "foto ke 37\n",
      "foto ke 38\n",
      "foto ke 39\n",
      "foto ke 40\n",
      "foto ke 41\n",
      "foto ke 42\n",
      "foto ke 43\n",
      "foto ke 44\n",
      "foto ke 45\n",
      "foto ke 46\n",
      "foto ke 47\n",
      "foto ke 48\n",
      "foto ke 49\n",
      "foto ke 50\n",
      "foto ke 51\n",
      "foto ke 52\n",
      "foto ke 53\n",
      "foto ke 54\n",
      "foto ke 55\n",
      "foto ke 56\n",
      "foto ke 57\n",
      "foto ke 58\n",
      "foto ke 59\n",
      "foto ke 60\n",
      "foto ke 61\n",
      "foto ke 62\n",
      "foto ke 63\n",
      "foto ke 64\n",
      "foto ke 65\n",
      "foto ke 66\n",
      "foto ke 67\n",
      "foto ke 68\n",
      "foto ke 69\n",
      "foto ke 70\n",
      "foto ke 71\n",
      "foto ke 72\n",
      "foto ke 73\n",
      "foto ke 74\n",
      "foto ke 75\n",
      "foto ke 76\n",
      "foto ke 77\n",
      "foto ke 78\n",
      "foto ke 79\n",
      "foto ke 80\n",
      "foto ke 81\n",
      "foto ke 82\n",
      "foto ke 83\n",
      "foto ke 84\n",
      "foto ke 85\n",
      "foto ke 86\n",
      "foto ke 87\n",
      "foto ke 88\n",
      "foto ke 89\n",
      "foto ke 90\n",
      "foto ke 91\n",
      "foto ke 92\n",
      "foto ke 93\n",
      "foto ke 94\n",
      "foto ke 95\n",
      "foto ke 96\n",
      "foto ke 97\n",
      "foto ke 98\n",
      "foto ke 99\n",
      "foto ke 100\n",
      "foto ke 101\n",
      "foto ke 102\n",
      "foto ke 103\n",
      "foto ke 104\n",
      "foto ke 105\n",
      "foto ke 106\n",
      "foto ke 107\n",
      "foto ke 108\n",
      "foto ke 109\n",
      "foto ke 110\n",
      "foto ke 111\n",
      "foto ke 112\n",
      "foto ke 113\n",
      "foto ke 114\n",
      "foto ke 115\n",
      "foto ke 116\n",
      "foto ke 117\n",
      "foto ke 118\n",
      "foto ke 119\n",
      "foto ke 120\n",
      "foto ke 121\n",
      "foto ke 122\n",
      "foto ke 123\n",
      "foto ke 124\n",
      "foto ke 125\n",
      "foto ke 126\n",
      "foto ke 127\n",
      "foto ke 128\n"
     ]
    }
   ],
   "source": [
    "no = 0\n",
    "for idx, row in data_generated.iterrows():\n",
    "    image = load_image(row['image_id'], generated_folder)\n",
    "    if image is not None:\n",
    "        images.append(image)\n",
    "        labels.append(row['dx'])\n",
    "        no += 1\n",
    "        print(f'foto ke {no}')"
   ]
  },
  {
   "cell_type": "code",
   "execution_count": 14,
   "metadata": {
    "id": "4VFqSa73Zz_T"
   },
   "outputs": [],
   "source": [
    "# Konversi lists ke numpy arrays\n",
    "images = np.array(images)\n",
    "labels = np.array(labels)\n",
    "\n",
    "# Preprocessing: Normalisasi gambar\n",
    "images = images / 255.0"
   ]
  },
  {
   "cell_type": "code",
   "execution_count": 15,
   "metadata": {
    "id": "AvFHVNE1bWYS"
   },
   "outputs": [],
   "source": [
    "# One-hot encoding untuk label\n",
    "label_encoder = {label: idx for idx, label in enumerate(np.unique(labels))}\n",
    "encoded_labels = np.array([label_encoder[label] for label in labels])"
   ]
  },
  {
   "cell_type": "code",
   "execution_count": 16,
   "metadata": {},
   "outputs": [
    {
     "name": "stdout",
     "output_type": "stream",
     "text": [
      "Number of classes after encoding: 7\n",
      "Class names after encoding: ['akiec', 'bcc', 'bkl', 'df', 'mel', 'nv', 'vasc']\n"
     ]
    }
   ],
   "source": [
    "# Tampilkan jumlah kelas setelah encoding\n",
    "num_classes_after = len(label_encoder)\n",
    "print(f\"Number of classes after encoding: {num_classes_after}\")\n",
    "print(f\"Class names after encoding: {list(label_encoder.keys())}\")"
   ]
  },
  {
   "cell_type": "code",
   "execution_count": 17,
   "metadata": {},
   "outputs": [],
   "source": [
    "# Membagi dataset menjadi train dan test set dengan proporsi 80:20\n",
    "train_images, test_images, train_labels, test_labels = train_test_split(images, encoded_labels, test_size=0.2, stratify=encoded_labels, random_state=42)\n"
   ]
  },
  {
   "cell_type": "code",
   "execution_count": 18,
   "metadata": {},
   "outputs": [],
   "source": [
    "def residual_block(x, filters, stride=1):\n",
    "    y = layers.Conv2D(filters, 3, strides=stride, padding='same')(x)\n",
    "    y = layers.BatchNormalization()(y)\n",
    "    y = layers.ReLU()(y)\n",
    "    \n",
    "    y = layers.Conv2D(filters, 3, strides=1, padding='same')(y)\n",
    "    y = layers.BatchNormalization()(y)\n",
    "    \n",
    "    if stride != 1 or x.shape[-1] != filters:\n",
    "        x = layers.Conv2D(filters, 1, strides=stride, padding='same')(x)\n",
    "        \n",
    "    out = layers.add([x, y])\n",
    "    out = layers.ReLU()(out)\n",
    "    return out\n",
    "\n",
    "def create_resnet_model(input_shape, num_classes):\n",
    "    inputs = layers.Input(shape=input_shape)\n",
    "    \n",
    "    # Lapisan awal konvolusi\n",
    "    x = layers.Conv2D(64, 7, strides=2, padding='same')(inputs)\n",
    "    x = layers.BatchNormalization()(x)\n",
    "    x = layers.ReLU()(x)\n",
    "    x = layers.MaxPooling2D(pool_size=3, strides=2, padding='same')(x)\n",
    "    \n",
    "    # Blok residual tahap pertama (2x 64 filter)\n",
    "    x = residual_block(x, 64)\n",
    "    x = residual_block(x, 64)\n",
    "    \n",
    "    # Blok residual tahap kedua (2x 128 filter, downsampling di blok pertama)\n",
    "    x = residual_block(x, 128, stride=2)\n",
    "    x = residual_block(x, 128)\n",
    "    \n",
    "    # Blok residual tahap ketiga (2x 256 filter, downsampling di blok pertama)\n",
    "    x = residual_block(x, 256, stride=2)\n",
    "    x = residual_block(x, 256)\n",
    "    \n",
    "    # Blok residual tahap keempat (2x 512 filter, downsampling di blok pertama)\n",
    "    x = residual_block(x, 512, stride=2)\n",
    "    x = residual_block(x, 512)\n",
    "    \n",
    "    # Lapisan akhir\n",
    "    x = layers.GlobalAveragePooling2D()(x)  # Avg Pooling\n",
    "    outputs = layers.Dense(num_classes, activation='softmax')(x)  # FC lapisan dengan softmax\n",
    "    \n",
    "    model = tf.keras.Model(inputs, outputs)\n",
    "    return model"
   ]
  },
  {
   "cell_type": "code",
   "execution_count": 19,
   "metadata": {},
   "outputs": [
    {
     "name": "stderr",
     "output_type": "stream",
     "text": [
      "2024-05-27 00:03:45.355537: W tensorflow/core/common_runtime/gpu/gpu_device.cc:2251] Cannot dlopen some GPU libraries. Please make sure the missing libraries mentioned above are installed properly if you would like to use GPU. Follow the guide at https://www.tensorflow.org/install/gpu for how to download and setup the required libraries for your platform.\n",
      "Skipping registering GPU devices...\n"
     ]
    },
    {
     "data": {
      "text/plain": [
       "'/cpu:0'"
      ]
     },
     "execution_count": 19,
     "metadata": {},
     "output_type": "execute_result"
    }
   ],
   "source": [
    "# Set device to GPU if available\n",
    "device_name = \"/gpu:0\" if tf.config.list_physical_devices('GPU') else \"/cpu:0\"\n",
    "device_name"
   ]
  },
  {
   "cell_type": "code",
   "execution_count": 20,
   "metadata": {},
   "outputs": [
    {
     "name": "stdout",
     "output_type": "stream",
     "text": [
      "Epoch 1/10\n",
      "\u001b[1m254/254\u001b[0m \u001b[32m━━━━━━━━━━━━━━━━━━━━\u001b[0m\u001b[37m\u001b[0m \u001b[1m462s\u001b[0m 2s/step - accuracy: 0.6401 - loss: 1.0084 - val_accuracy: 0.0542 - val_loss: 2.9556\n",
      "Epoch 2/10\n",
      "\u001b[1m254/254\u001b[0m \u001b[32m━━━━━━━━━━━━━━━━━━━━\u001b[0m\u001b[37m\u001b[0m \u001b[1m435s\u001b[0m 2s/step - accuracy: 0.7399 - loss: 0.7241 - val_accuracy: 0.6456 - val_loss: 1.0300\n",
      "Epoch 3/10\n",
      "\u001b[1m254/254\u001b[0m \u001b[32m━━━━━━━━━━━━━━━━━━━━\u001b[0m\u001b[37m\u001b[0m \u001b[1m437s\u001b[0m 2s/step - accuracy: 0.7500 - loss: 0.6507 - val_accuracy: 0.3741 - val_loss: 1.4455\n",
      "Epoch 4/10\n",
      "\u001b[1m254/254\u001b[0m \u001b[32m━━━━━━━━━━━━━━━━━━━━\u001b[0m\u001b[37m\u001b[0m \u001b[1m426s\u001b[0m 2s/step - accuracy: 0.7886 - loss: 0.5809 - val_accuracy: 0.6106 - val_loss: 1.0265\n",
      "Epoch 5/10\n",
      "\u001b[1m254/254\u001b[0m \u001b[32m━━━━━━━━━━━━━━━━━━━━\u001b[0m\u001b[37m\u001b[0m \u001b[1m432s\u001b[0m 2s/step - accuracy: 0.8193 - loss: 0.4960 - val_accuracy: 0.6649 - val_loss: 0.9382\n",
      "Epoch 6/10\n",
      "\u001b[1m254/254\u001b[0m \u001b[32m━━━━━━━━━━━━━━━━━━━━\u001b[0m\u001b[37m\u001b[0m \u001b[1m415s\u001b[0m 2s/step - accuracy: 0.8480 - loss: 0.4130 - val_accuracy: 0.7329 - val_loss: 0.8103\n",
      "Epoch 7/10\n",
      "\u001b[1m254/254\u001b[0m \u001b[32m━━━━━━━━━━━━━━━━━━━━\u001b[0m\u001b[37m\u001b[0m \u001b[1m452s\u001b[0m 2s/step - accuracy: 0.8930 - loss: 0.3041 - val_accuracy: 0.4653 - val_loss: 1.7517\n",
      "Epoch 8/10\n",
      "\u001b[1m254/254\u001b[0m \u001b[32m━━━━━━━━━━━━━━━━━━━━\u001b[0m\u001b[37m\u001b[0m \u001b[1m420s\u001b[0m 2s/step - accuracy: 0.9275 - loss: 0.2127 - val_accuracy: 0.7077 - val_loss: 1.1301\n",
      "Epoch 9/10\n",
      "\u001b[1m254/254\u001b[0m \u001b[32m━━━━━━━━━━━━━━━━━━━━\u001b[0m\u001b[37m\u001b[0m \u001b[1m415s\u001b[0m 2s/step - accuracy: 0.9535 - loss: 0.1397 - val_accuracy: 0.7082 - val_loss: 1.7022\n",
      "Epoch 10/10\n",
      "\u001b[1m254/254\u001b[0m \u001b[32m━━━━━━━━━━━━━━━━━━━━\u001b[0m\u001b[37m\u001b[0m \u001b[1m442s\u001b[0m 2s/step - accuracy: 0.9566 - loss: 0.1261 - val_accuracy: 0.7427 - val_loss: 1.1473\n",
      "64/64 - 16s - 244ms/step - accuracy: 0.7427 - loss: 1.1473\n",
      "\n",
      "Test accuracy: 0.742730438709259\n",
      "\u001b[1m64/64\u001b[0m \u001b[32m━━━━━━━━━━━━━━━━━━━━\u001b[0m\u001b[37m\u001b[0m \u001b[1m13s\u001b[0m 197ms/step\n"
     ]
    }
   ],
   "source": [
    "with tf.device(device_name):\n",
    "    model = create_resnet_model((224, 224, 3), num_classes_after)\n",
    "\n",
    "    # Compile model\n",
    "    model.compile(optimizer=Adam(learning_rate=1e-4), loss='sparse_categorical_crossentropy', metrics=['accuracy'])\n",
    "\n",
    "    # Melatih model dan menyimpan history\n",
    "    history = model.fit(train_images, train_labels, epochs=10, validation_data=(test_images, test_labels))\n",
    "\n",
    "    # Mengevaluasi model\n",
    "    test_loss, test_acc = model.evaluate(test_images, test_labels, verbose=2)\n",
    "    print(f'\\nTest accuracy: {test_acc}')\n",
    "\n",
    "    # Prediksi pada test set\n",
    "    pred_labels = np.argmax(model.predict(test_images), axis=1)"
   ]
  },
  {
   "cell_type": "code",
   "execution_count": 21,
   "metadata": {},
   "outputs": [
    {
     "name": "stdout",
     "output_type": "stream",
     "text": [
      "\u001b[1m64/64\u001b[0m \u001b[32m━━━━━━━━━━━━━━━━━━━━\u001b[0m\u001b[37m\u001b[0m \u001b[1m12s\u001b[0m 193ms/step - accuracy: 0.7375 - loss: 1.2016\n",
      "\n",
      "Test accuracy: 0.742730438709259\n"
     ]
    }
   ],
   "source": [
    "# Mengevaluasi model\n",
    "test_loss, test_acc = model.evaluate(test_images, test_labels, verbose=1)\n",
    "print(f'\\nTest accuracy: {test_acc}')"
   ]
  },
  {
   "cell_type": "code",
   "execution_count": 22,
   "metadata": {},
   "outputs": [
    {
     "name": "stdout",
     "output_type": "stream",
     "text": [
      "\u001b[1m64/64\u001b[0m \u001b[32m━━━━━━━━━━━━━━━━━━━━\u001b[0m\u001b[37m\u001b[0m \u001b[1m12s\u001b[0m 185ms/step\n"
     ]
    }
   ],
   "source": [
    "# Prediksi pada test set\n",
    "pred_labels = np.argmax(model.predict(test_images), axis=1)"
   ]
  },
  {
   "cell_type": "code",
   "execution_count": 23,
   "metadata": {},
   "outputs": [
    {
     "name": "stderr",
     "output_type": "stream",
     "text": [
      "/tmp/ipykernel_16148/571757937.py:5: UserWarning: set_ticklabels() should only be used with a fixed number of ticks, i.e. after set_ticks() or using a FixedLocator.\n",
      "  ax.set_xticklabels([''] + list(label_encoder.keys()))\n",
      "/tmp/ipykernel_16148/571757937.py:6: UserWarning: set_ticklabels() should only be used with a fixed number of ticks, i.e. after set_ticks() or using a FixedLocator.\n",
      "  ax.set_yticklabels([''] + list(label_encoder.keys()))\n"
     ]
    },
    {
     "data": {
      "image/png": "[encoded data removed]",
      "text/plain": [
       "<Figure size 1000x800 with 2 Axes>"
      ]
     },
     "metadata": {},
     "output_type": "display_data"
    }
   ],
   "source": [
    "conf_matrix = confusion_matrix(test_labels, pred_labels)\n",
    "fig, ax = plt.subplots(figsize=(10, 8))\n",
    "cax = ax.matshow(conf_matrix, cmap=plt.cm.Blues)\n",
    "fig.colorbar(cax)\n",
    "ax.set_xticklabels([''] + list(label_encoder.keys()))\n",
    "ax.set_yticklabels([''] + list(label_encoder.keys()))\n",
    "plt.xlabel('Predicted Labels')\n",
    "plt.ylabel('True Labels')\n",
    "plt.title('Confusion Matrix')\n",
    "plt.show()"
   ]
  },
  {
   "cell_type": "code",
   "execution_count": 24,
   "metadata": {},
   "outputs": [
    {
     "name": "stdout",
     "output_type": "stream",
     "text": [
      "              precision    recall  f1-score   support\n",
      "\n",
      "       akiec       0.60      0.05      0.08        66\n",
      "         bcc       0.46      0.59      0.51       104\n",
      "         bkl       0.49      0.47      0.48       222\n",
      "          df       0.27      0.12      0.17        24\n",
      "         mel       0.52      0.25      0.34       225\n",
      "          nv       0.83      0.93      0.87      1360\n",
      "        vasc       0.59      0.79      0.68        28\n",
      "\n",
      "    accuracy                           0.74      2029\n",
      "   macro avg       0.54      0.46      0.45      2029\n",
      "weighted avg       0.72      0.74      0.72      2029\n",
      "\n"
     ]
    }
   ],
   "source": [
    "# Menampilkan classification report\n",
    "print(classification_report(test_labels, pred_labels, target_names=label_encoder.keys()))"
   ]
  },
  {
   "cell_type": "code",
   "execution_count": 25,
   "metadata": {},
   "outputs": [
    {
     "data": {
      "image/png": "[encoded data removed]",
      "text/plain": [
       "<Figure size 640x480 with 1 Axes>"
      ]
     },
     "metadata": {},
     "output_type": "display_data"
    }
   ],
   "source": [
    "# Menampilkan grafik loss training dan validasi\n",
    "plt.figure()\n",
    "plt.plot(history.history['loss'], label='Training Loss')\n",
    "plt.plot(history.history['val_loss'], label='Validation Loss')\n",
    "plt.xlabel('Epochs')\n",
    "plt.ylabel('Loss')\n",
    "plt.legend()\n",
    "plt.title('Training and Validation Loss')\n",
    "plt.show()"
   ]
  },
  {
   "cell_type": "code",
   "execution_count": null,
   "metadata": {},
   "outputs": [],
   "source": [
    "# Menyimpan model ke file\n",
    "model.save('model_resnet-18.h5')"
   ]
  }
 ],
 "metadata": {
  "accelerator": "GPU",
  "colab": {
   "gpuType": "T4",
   "provenance": []
  },
  "kernelspec": {
   "display_name": "comvis",
   "language": "python",
   "name": "comvis"
  },
  "language_info": {
   "codemirror_mode": {
    "name": "ipython",
    "version": 3
   },
   "file_extension": ".py",
   "mimetype": "text/x-python",
   "name": "python",
   "nbconvert_exporter": "python",
   "pygments_lexer": "ipython3",
   "version": "3.12.3"
  }
 },
 "nbformat": 4,
 "nbformat_minor": 4
}
